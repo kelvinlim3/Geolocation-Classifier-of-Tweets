{
 "cells": [
  {
   "cell_type": "markdown",
   "metadata": {},
   "source": [
    "# **CLASSIFYING THE GEOLCATION OF TWEETS**"
   ]
  },
  {
   "cell_type": "markdown",
   "metadata": {},
   "source": [
    "This report analyses different machine learning classification algorithms to output the geolocation of users according to their tweets. We use have three datasets in our disposition, namely the training dataset- to train the classifiers and tune parameters, the development dataset- to evaluate the performance of the classifiers trained on the training dataset, and the testing dataset- consisting of only features and no labels. The training dataset has 133796 instances, the development dataset has 11476 instances and the test dataset has 12019 instances. The classes are regions in the United States labelled as 'MIDWEST', 'NORTHEAST', 'SOUTH', 'WEST'."
   ]
  },
  {
   "cell_type": "code",
   "execution_count": 1,
   "metadata": {},
   "outputs": [],
   "source": [
    "import re\n",
    "import ast\n",
    "import csv\n",
    "from scipy.sparse import csr_matrix\n",
    "from collections import Counter\n",
    "from sklearn.feature_selection import SelectKBest, chi2\n",
    "from sklearn.naive_bayes import MultinomialNB\n",
    "from sklearn.linear_model import LogisticRegression\n",
    "from sklearn.neural_network import MLPClassifier\n",
    "from sklearn.tree import DecisionTreeClassifier\n",
    "from sklearn.metrics import accuracy_score, f1_score\n",
    "from matplotlib import pyplot"
   ]
  },
  {
   "cell_type": "markdown",
   "metadata": {},
   "source": [
    "We load the `vocab.txt` file containing all the words mapped to their id and the `train_count.csv`, `dev_count.csv` and `test_count.csv` files in the notebook."
   ]
  },
  {
   "cell_type": "code",
   "execution_count": 2,
   "metadata": {},
   "outputs": [],
   "source": [
    "vocabulary = open('vocab.txt', 'r', encoding='utf8').readlines()\n",
    "train_data_count = open('train_count.csv', 'r', encoding='utf8').readlines()[1:]\n",
    "dev_data_count = open('dev_count.csv', 'r', encoding='utf8').readlines()[1:]\n",
    "test_data_count = open('test_count.csv', 'r', encoding='utf8').readlines()[1:]"
   ]
  },
  {
   "cell_type": "markdown",
   "metadata": {},
   "source": [
    "We convert `vocabulary` into a Python dictionary `word_dict` for ease of computation."
   ]
  },
  {
   "cell_type": "code",
   "execution_count": 3,
   "metadata": {},
   "outputs": [],
   "source": [
    "word_dict = dict()\n",
    "for line in vocabulary:\n",
    "    split_line = line.split('\\t')\n",
    "    word_dict[split_line[0]] = int(split_line[1])"
   ]
  },
  {
   "cell_type": "markdown",
   "metadata": {},
   "source": [
    "A function `clean_count_and_labels` is defined to process raw count data and return a matrix of count values where each row represent an instance and each column represent a word in a dictionary, and a list of labels."
   ]
  },
  {
   "cell_type": "code",
   "execution_count": 4,
   "metadata": {},
   "outputs": [],
   "source": [
    "def clean_count_and_labels(raw_count_data, dictionary=word_dict):\n",
    "    \n",
    "    count = [[] for i in range(len(raw_count_data))]\n",
    "    labels = []\n",
    "\n",
    "    i = 0\n",
    "    for line in raw_count_data:\n",
    "        # add label to `labels`\n",
    "        label = line.split(',')[0]\n",
    "        labels.append(label)\n",
    "\n",
    "        # add list of count values, as per index, to `count`\n",
    "        count_list = ast.literal_eval(re.search('\"(.*?)\"', line).group(1))\n",
    "        count_dict = {index: count for index, count in count_list}\n",
    "        for j in dictionary.values():\n",
    "            if j in count_dict:\n",
    "                count[i].append(count_dict[j])\n",
    "            else:\n",
    "                count[i].append(0)\n",
    "        i += 1\n",
    "    \n",
    "    return count, labels"
   ]
  },
  {
   "cell_type": "markdown",
   "metadata": {},
   "source": [
    "Retrieve the full count values and labels for both the training and development datasets. The full count values matrices are converted to sparse matrices."
   ]
  },
  {
   "cell_type": "code",
   "execution_count": 5,
   "metadata": {},
   "outputs": [],
   "source": [
    "# TRAINING DATA\n",
    "train_results = clean_count_and_labels(train_data_count)\n",
    "full_train_count_values = csr_matrix(train_results[0])\n",
    "train_labels = train_results[1]"
   ]
  },
  {
   "cell_type": "code",
   "execution_count": 6,
   "metadata": {},
   "outputs": [],
   "source": [
    "# DEVELOPMENT DATA\n",
    "dev_results = clean_count_and_labels(dev_data_count)\n",
    "full_dev_count_values = csr_matrix(dev_results[0])\n",
    "dev_labels = dev_results[1]"
   ]
  },
  {
   "cell_type": "markdown",
   "metadata": {},
   "source": [
    "Using Chi-squared values, we get the 500 features (words) in the training dataset that have the highest dependence with the class labels."
   ]
  },
  {
   "cell_type": "code",
   "execution_count": 7,
   "metadata": {},
   "outputs": [],
   "source": [
    "K = 500\n",
    "\n",
    "x2 = SelectKBest(chi2, k=K)\n",
    "x2.fit(full_train_count_values, train_labels)\n",
    "\n",
    "# reduce the count values to the selected features\n",
    "train_count_values = x2.transform(full_train_count_values)\n",
    "dev_count_values = x2.transform(full_dev_count_values)"
   ]
  },
  {
   "cell_type": "markdown",
   "metadata": {},
   "source": [
    "We define a function that utilises Zero Rules to predict the majority class in the training dataset as labels and use it to get the `zero_r_predictions`."
   ]
  },
  {
   "cell_type": "code",
   "execution_count": 8,
   "metadata": {},
   "outputs": [],
   "source": [
    "def zero_r(train_labels, test_features):\n",
    "\n",
    "    # get the frequency of each label\n",
    "    label_counts = Counter()\n",
    "    for label in train_labels:\n",
    "        label_counts[label] += 1\n",
    "\n",
    "    # retrieve the label with the highest frequency\n",
    "    majority_class = label_counts.most_common()[0][0]\n",
    "\n",
    "    predictions = [majority_class] * len(test_features.todense())\n",
    "    \n",
    "    return predictions"
   ]
  },
  {
   "cell_type": "code",
   "execution_count": 9,
   "metadata": {
    "scrolled": true
   },
   "outputs": [
    {
     "name": "stdout",
     "output_type": "stream",
     "text": [
      "Zero Rules predicted class distribution\t Counter({'NORTHEAST': 11475})\n"
     ]
    }
   ],
   "source": [
    "zero_r_predictions = zero_r(train_labels, dev_count_values)\n",
    "print(f\"Zero Rules predicted class distribution\\t {Counter(zero_r_predictions)}\")"
   ]
  },
  {
   "cell_type": "markdown",
   "metadata": {},
   "source": [
    "Now, we define and train the first classifier- the Multinomial Naive Bayes model on `train_count_values` and `train_labels` and use it to predict the labels from `dev_count_values`."
   ]
  },
  {
   "cell_type": "code",
   "execution_count": 10,
   "metadata": {},
   "outputs": [
    {
     "data": {
      "text/plain": [
       "MultinomialNB()"
      ]
     },
     "execution_count": 10,
     "metadata": {},
     "output_type": "execute_result"
    }
   ],
   "source": [
    "mnb_classifier = MultinomialNB()\n",
    "mnb_classifier.fit(train_count_values, train_labels)"
   ]
  },
  {
   "cell_type": "code",
   "execution_count": 11,
   "metadata": {},
   "outputs": [
    {
     "name": "stdout",
     "output_type": "stream",
     "text": [
      "Multinomial Naive Bayes predicted class distribution\t Counter({'SOUTH': 5838, 'NORTHEAST': 5236, 'WEST': 319, 'MIDWEST': 82})\n"
     ]
    }
   ],
   "source": [
    "mnb_predictions = list(mnb_classifier.predict(dev_count_values))\n",
    "print(f'Multinomial Naive Bayes predicted class distribution\\t {Counter(mnb_predictions)}')"
   ]
  },
  {
   "cell_type": "markdown",
   "metadata": {},
   "source": [
    "The second model is the Logistic Regression model. Again, we train it on `train_count_values` and `train_labels` and predict the labels from `dev_count_values`."
   ]
  },
  {
   "cell_type": "code",
   "execution_count": 12,
   "metadata": {},
   "outputs": [
    {
     "data": {
      "text/plain": [
       "LogisticRegression(max_iter=500)"
      ]
     },
     "execution_count": 12,
     "metadata": {},
     "output_type": "execute_result"
    }
   ],
   "source": [
    "MAX_ITER = 500\n",
    "\n",
    "lr_classifier = LogisticRegression(max_iter=MAX_ITER)\n",
    "lr_classifier.fit(train_count_values, train_labels)"
   ]
  },
  {
   "cell_type": "code",
   "execution_count": 13,
   "metadata": {},
   "outputs": [
    {
     "name": "stdout",
     "output_type": "stream",
     "text": [
      "Logistic Regression predicted class distribution\t Counter({'SOUTH': 5819, 'NORTHEAST': 5464, 'WEST': 167, 'MIDWEST': 25})\n"
     ]
    }
   ],
   "source": [
    "lr_predictions = list(lr_classifier.predict(dev_count_values))\n",
    "print(f'Logistic Regression predicted class distribution\\t {Counter(lr_predictions)}')"
   ]
  },
  {
   "cell_type": "markdown",
   "metadata": {},
   "source": [
    "Similarly for a Multilayer Perceptron with one hidden layer containing 100 neurons and using as activation function, the sigmoid function."
   ]
  },
  {
   "cell_type": "code",
   "execution_count": 14,
   "metadata": {},
   "outputs": [
    {
     "data": {
      "text/plain": [
       "MLPClassifier(activation='logistic', max_iter=2000)"
      ]
     },
     "execution_count": 14,
     "metadata": {},
     "output_type": "execute_result"
    }
   ],
   "source": [
    "ACTIVATION = 'logistic'\n",
    "MAX_ITER = 2000\n",
    "\n",
    "mlp_classifier = MLPClassifier(activation=ACTIVATION, max_iter=MAX_ITER)\n",
    "mlp_classifier.fit(train_count_values, train_labels)"
   ]
  },
  {
   "cell_type": "code",
   "execution_count": 15,
   "metadata": {},
   "outputs": [
    {
     "name": "stdout",
     "output_type": "stream",
     "text": [
      "Multilayer Perceptron predicted class distribution\t Counter({'SOUTH': 5086, 'NORTHEAST': 5036, 'WEST': 702, 'MIDWEST': 651})\n"
     ]
    }
   ],
   "source": [
    "mlp_predictions = list(mlp_classifier.predict(dev_count_values))\n",
    "print(f'Multilayer Perceptron predicted class distribution\\t {Counter(mlp_predictions)}')"
   ]
  },
  {
   "cell_type": "markdown",
   "metadata": {},
   "source": [
    "The last candidate classifier is the Decision Tree classifier- it uses information as splitting criteria and has a maximum depth of 50."
   ]
  },
  {
   "cell_type": "code",
   "execution_count": 16,
   "metadata": {},
   "outputs": [
    {
     "data": {
      "text/plain": [
       "DecisionTreeClassifier(criterion='entropy', max_depth=50)"
      ]
     },
     "execution_count": 16,
     "metadata": {},
     "output_type": "execute_result"
    }
   ],
   "source": [
    "CRIT = 'entropy'\n",
    "MAX_DEPTH = 50\n",
    "\n",
    "dt_classifier = DecisionTreeClassifier(criterion=CRIT, max_depth=MAX_DEPTH)\n",
    "dt_classifier.fit(train_count_values, train_labels)"
   ]
  },
  {
   "cell_type": "code",
   "execution_count": 17,
   "metadata": {},
   "outputs": [
    {
     "name": "stdout",
     "output_type": "stream",
     "text": [
      "Decision Tree predicted class distribution\t Counter({'SOUTH': 5579, 'NORTHEAST': 5392, 'WEST': 291, 'MIDWEST': 213})\n"
     ]
    }
   ],
   "source": [
    "dt_predictions = list(dt_classifier.predict(dev_count_values))\n",
    "print(f'Decision Tree predicted class distribution\\t {Counter(dt_predictions)}')"
   ]
  },
  {
   "cell_type": "markdown",
   "metadata": {},
   "source": [
    "We print out the empirical class distributions from the development dataset for reference."
   ]
  },
  {
   "cell_type": "code",
   "execution_count": 18,
   "metadata": {},
   "outputs": [
    {
     "name": "stdout",
     "output_type": "stream",
     "text": [
      "Empirical Class distribution\t Counter({'NORTHEAST': 4295, 'SOUTH': 4266, 'MIDWEST': 1484, 'WEST': 1430})\n"
     ]
    }
   ],
   "source": [
    "print(f'Empirical Class distribution\\t {Counter(dev_labels)}')"
   ]
  },
  {
   "cell_type": "markdown",
   "metadata": {},
   "source": [
    "To evaluate the performances, the accuracy score and Macro F1 score is computed for each predictor."
   ]
  },
  {
   "cell_type": "code",
   "execution_count": 19,
   "metadata": {},
   "outputs": [
    {
     "name": "stdout",
     "output_type": "stream",
     "text": [
      "ZERO R\t\tAccuracy: 0.37\tMacro F1: 0.14\n",
      "MNB\t\tAccuracy: 0.46\tMacro F1: 0.29\n",
      "LR\t\tAccuracy: 0.46\tMacro F1: 0.28\n",
      "MLP\t\tAccuracy: 0.41\tMacro F1: 0.29\n",
      "DT\t\tAccuracy: 0.43\tMacro F1: 0.28\n"
     ]
    }
   ],
   "source": [
    "# zero r\n",
    "zero_r_acc = accuracy_score(dev_labels, zero_r_predictions)\n",
    "zero_r_f1 = f1_score(dev_labels, zero_r_predictions, average='macro')\n",
    "\n",
    "# mnb\n",
    "mnb_acc = accuracy_score(dev_labels,mnb_predictions)\n",
    "mnb_f1 = f1_score(dev_labels, mnb_predictions, average='macro')\n",
    "\n",
    "# lr\n",
    "lr_acc = accuracy_score(dev_labels, lr_predictions)\n",
    "lr_f1 = f1_score(dev_labels, lr_predictions, average='macro')\n",
    "\n",
    "# mlp\n",
    "mlp_acc = accuracy_score(dev_labels, mlp_predictions)\n",
    "mlp_f1 = f1_score(dev_labels, mlp_predictions, average='macro')\n",
    "\n",
    "# dt\n",
    "dt_acc = accuracy_score(dev_labels, dt_predictions)\n",
    "dt_f1 = f1_score(dev_labels, dt_predictions, average='macro')\n",
    "\n",
    "print(f'ZERO R\\t\\tAccuracy: {round(zero_r_acc, 2)}\\tMacro F1: {round(zero_r_f1, 2)}')\n",
    "print(f'MNB\\t\\tAccuracy: {round(mnb_acc, 2)}\\tMacro F1: {round(mnb_f1, 2)}')\n",
    "print(f'LR\\t\\tAccuracy: {round(lr_acc, 2)}\\tMacro F1: {round(lr_f1, 2)}')\n",
    "print(f'MLP\\t\\tAccuracy: {round(mlp_acc, 2)}\\tMacro F1: {round(mlp_f1, 2)}')\n",
    "print(f'DT\\t\\tAccuracy: {round(dt_acc, 2)}\\tMacro F1: {round(dt_f1, 2)}')"
   ]
  },
  {
   "cell_type": "markdown",
   "metadata": {},
   "source": [
    "We draw a bar chart of the evaluation metrics for visual illustration of the models' performances."
   ]
  },
  {
   "cell_type": "code",
   "execution_count": 20,
   "metadata": {},
   "outputs": [
    {
     "data": {
      "image/png": "[encoded data removed]",
      "text/plain": [
       "<Figure size 864x576 with 1 Axes>"
      ]
     },
     "metadata": {
      "needs_background": "light"
     },
     "output_type": "display_data"
    }
   ],
   "source": [
    "# set width of bars\n",
    "BAR_WIDTH = 0.25\n",
    "plot = pyplot.subplots(figsize=(12,8))\n",
    "\n",
    "# set heights of bars\n",
    "acc_list = [zero_r_acc, mnb_acc, lr_acc, mlp_acc, dt_acc]\n",
    "f1_list = [zero_r_f1, mnb_f1, lr_f1, mlp_f1, dt_f1]\n",
    "\n",
    "# set position of bar on x axis\n",
    "br1 = [x for x in range(len(acc_list))]\n",
    "br2 = [x + BAR_WIDTH for x in br1]\n",
    "\n",
    "# make plot\n",
    "pyplot.bar(br1, acc_list, color='lightgreen', width=BAR_WIDTH, edgecolor='grey', label='Accuracy')\n",
    "pyplot.bar(br2, f1_list, color='lightblue', width=BAR_WIDTH, edgecolor='grey', label='Macro F1')\n",
    "\n",
    "# adding labels and ticks\n",
    "pyplot.xlabel('Classifiers', fontweight='bold', fontsize=15)\n",
    "pyplot.ylabel('Scores', fontweight='bold', fontsize=15)\n",
    "pyplot.xticks([x + BAR_WIDTH for x in br1], ['Zero R', 'Multinomial Naive Bayes', 'Logistic Regression', 'Multilayer Perceptron', 'Decision Tree'])\n",
    "pyplot.legend()\n",
    "pyplot.show()"
   ]
  },
  {
   "cell_type": "markdown",
   "metadata": {},
   "source": [
    "We select the Logistic Regression classifier as our final model and use it to make predictions for the test dataset. `test_count_values` is computed in a similar fashion as for `train_count_values` and `dev_count_values` and `test_predictions` is computed using the pre-trained `lr_classifier`, but passing `test_count_values` for prediction."
   ]
  },
  {
   "cell_type": "code",
   "execution_count": 21,
   "metadata": {},
   "outputs": [],
   "source": [
    "test_results = clean_count_and_labels(test_data_count)\n",
    "full_test_count_values = csr_matrix(test_results[0])\n",
    "\n",
    " # reduce `test_count_values` to the selected features\n",
    "test_count_values = x2.transform(full_test_count_values)"
   ]
  },
  {
   "cell_type": "code",
   "execution_count": 22,
   "metadata": {},
   "outputs": [
    {
     "name": "stdout",
     "output_type": "stream",
     "text": [
      "Logistic Regression predicted class distribution\t Counter({'SOUTH': 6179, 'NORTHEAST': 5666, 'WEST': 151, 'MIDWEST': 22})\n"
     ]
    }
   ],
   "source": [
    "test_predictions = list(lr_classifier.predict(test_count_values))\n",
    "print(f'Logistic Regression predicted class distribution\\t {Counter(test_predictions)}')"
   ]
  },
  {
   "cell_type": "markdown",
   "metadata": {},
   "source": [
    "Lastly, we write `test_predictions` on a csv file called `predictions.csv` for the Kaggle competition."
   ]
  },
  {
   "cell_type": "code",
   "execution_count": 23,
   "metadata": {},
   "outputs": [],
   "source": [
    "with open('predictions.csv', 'w', newline='') as file:\n",
    "    \n",
    "    writer = csv.writer(file)\n",
    "    \n",
    "    # write header row\n",
    "    writer.writerow([\"id\", \"region\"])\n",
    "    \n",
    "    # write id and region in each row\n",
    "    i = 1\n",
    "    for prediction in test_predictions:\n",
    "        writer.writerow([i, prediction])\n",
    "        i += 1"
   ]
  },
  {
   "cell_type": "markdown",
   "metadata": {},
   "source": []
  }
 ],
 "metadata": {
  "kernelspec": {
   "display_name": "Python 3",
   "language": "python",
   "name": "python3"
  },
  "language_info": {
   "codemirror_mode": {
    "name": "ipython",
    "version": 3
   },
   "file_extension": ".py",
   "mimetype": "text/x-python",
   "name": "python",
   "nbconvert_exporter": "python",
   "pygments_lexer": "ipython3",
   "version": "3.8.3"
  }
 },
 "nbformat": 4,
 "nbformat_minor": 4
}
